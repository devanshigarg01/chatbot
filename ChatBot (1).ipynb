{
  "cells": [
    {
      "cell_type": "code",
      "execution_count": null,
      "metadata": {
        "id": "RVcaLiVxL_F3"
      },
      "outputs": [],
      "source": [
        "import nltk\n",
        "import numpy as np\n",
        "import torch\n",
        "import torch.nn as nn\n",
        "from torch.utils.data import Dataset, DataLoader"
      ]
    },
    {
      "cell_type": "code",
      "execution_count": null,
      "metadata": {
        "colab": {
          "base_uri": "https://localhost:8080/"
        },
        "id": "HDA8Pi9WPb_N",
        "outputId": "acc58889-68bb-45fe-c14a-85878eeaa95f"
      },
      "outputs": [
        {
          "output_type": "stream",
          "name": "stdout",
          "text": [
            "[nltk_data] Downloading package punkt to /root/nltk_data...\n",
            "[nltk_data]   Unzipping tokenizers/punkt.zip.\n"
          ]
        },
        {
          "output_type": "execute_result",
          "data": {
            "text/plain": [
              "True"
            ]
          },
          "metadata": {},
          "execution_count": 2
        }
      ],
      "source": [
        "nltk.download('punkt')"
      ]
    },
    {
      "cell_type": "code",
      "execution_count": null,
      "metadata": {
        "id": "K6qaY5SqYd74"
      },
      "outputs": [],
      "source": [
        "from nltk.stem.porter import *\n",
        "stemmer = PorterStemmer()"
      ]
    },
    {
      "cell_type": "code",
      "execution_count": null,
      "metadata": {
        "id": "w-H4XjE8PwjV"
      },
      "outputs": [],
      "source": [
        "def tokenize(sentence):\n",
        "  return nltk.word_tokenize(sentence)"
      ]
    },
    {
      "cell_type": "code",
      "execution_count": null,
      "metadata": {
        "id": "BX1-GoThQO6e"
      },
      "outputs": [],
      "source": [
        "def stem(word):\n",
        "  return stemmer.stem(word.lower())"
      ]
    },
    {
      "cell_type": "code",
      "execution_count": null,
      "metadata": {
        "colab": {
          "base_uri": "https://localhost:8080/"
        },
        "id": "qYeIEkz_YyPI",
        "outputId": "16ba6d66-baef-4b04-ca22-72964a72dda7"
      },
      "outputs": [
        {
          "output_type": "stream",
          "name": "stdout",
          "text": [
            "['connect', 'connect', 'connect']\n"
          ]
        }
      ],
      "source": [
        "words = ['connection', 'connecting', 'connected']\n",
        "\n",
        "stemmed_words = [stem(w) for w in words]\n",
        "\n",
        "print(stemmed_words)"
      ]
    },
    {
      "cell_type": "code",
      "execution_count": null,
      "metadata": {
        "id": "qkAe8wE_kd_N"
      },
      "outputs": [],
      "source": [
        "def bag_of_words(tokenized_sentence, all_words):\n",
        "\n",
        "  tokenized_sentence = [stem(w) for w in tokenized_sentence]\n",
        "  bag = np.zeros(len(all_words), dtype = np.float32)\n",
        "\n",
        "  for idx, w in enumerate(all_words):\n",
        "    if w in tokenized_sentence:\n",
        "      bag[idx] = 1.0\n",
        "  \n",
        "  return bag"
      ]
    },
    {
      "cell_type": "code",
      "execution_count": null,
      "metadata": {
        "colab": {
          "base_uri": "https://localhost:8080/"
        },
        "id": "FOqW0TUtnj7d",
        "outputId": "cd9eef32-ff88-4fdf-b4a4-c13a42375aed"
      },
      "outputs": [
        {
          "output_type": "stream",
          "name": "stdout",
          "text": [
            "Mounted at /content/drive\n"
          ]
        }
      ],
      "source": [
        "from google.colab import drive\n",
        "drive.mount('/content/drive')"
      ]
    },
    {
      "cell_type": "code",
      "execution_count": null,
      "metadata": {
        "id": "M2R0G6SMZSnq"
      },
      "outputs": [],
      "source": [
        "import json"
      ]
    },
    {
      "cell_type": "code",
      "execution_count": null,
      "metadata": {
        "id": "XzliZc2HmfaW"
      },
      "outputs": [],
      "source": [
        "with open('/content/drive/MyDrive/Colab Notebooks/Chat Bot Data/intents.json', 'r') as f:\n",
        "  intents = json.load(f)"
      ]
    },
    {
      "cell_type": "code",
      "execution_count": null,
      "metadata": {
        "id": "UcTfTt-Vm82p"
      },
      "outputs": [],
      "source": [
        "all_words = []\n",
        "tags = []\n",
        "xy = []\n",
        "\n",
        "for intent in intents['intents']:\n",
        "  tag = intent['tag']\n",
        "  tags.append(tag)\n",
        "\n",
        "  for pattern in intent['patterns']:\n",
        "    w = tokenize(pattern)\n",
        "    all_words.extend(w)\n",
        "    xy.append((w,tag))\n",
        "\n",
        "ignore_words = ['?', '.', ',', '!']\n",
        "\n",
        "all_words = [stem(w) for w in all_words if w not in ignore_words]\n",
        "\n",
        "all_words = sorted(set(all_words))\n",
        "tags = sorted(set(tags))"
      ]
    },
    {
      "cell_type": "code",
      "execution_count": null,
      "metadata": {
        "id": "MX7KDbnMq_q_"
      },
      "outputs": [],
      "source": [
        "X_train = []\n",
        "y_train = []\n",
        "\n",
        "for (pattern_sentence,tag) in xy:\n",
        "  bag = bag_of_words(pattern_sentence, all_words)\n",
        "  X_train.append(bag)\n",
        "  \n",
        "  labels = tags.index(tag)\n",
        "  y_train.append(labels)         #Since we have to use cross-entropy loss function we are not using one-hot encoded vector\n"
      ]
    },
    {
      "cell_type": "code",
      "execution_count": null,
      "metadata": {
        "id": "W1z4unvMmNZM"
      },
      "outputs": [],
      "source": [
        "\n",
        " \n",
        "X_train = np.array(X_train)\n",
        "y_train = np.array(y_train)"
      ]
    },
    {
      "cell_type": "code",
      "execution_count": null,
      "metadata": {
        "id": "QTbuN-_ypMkL"
      },
      "outputs": [],
      "source": [
        "class ChatDataset(Dataset):\n",
        "\n",
        "  def __init__(self):\n",
        "    self.n_samples = len(X_train)\n",
        "    self.x_data = X_train\n",
        "    self.y_data = y_train\n",
        "\n",
        "  def __getitem__(self, idx):\n",
        "    return self.x_data[idx], self.y_data[idx]\n",
        "\n",
        "  def __len__(self):\n",
        "    return self.n_samples\n",
        "\n",
        "batch_size = 8\n",
        "\n",
        "dataset = ChatDataset()\n",
        "train_loader = DataLoader(dataset = dataset, batch_size = batch_size, shuffle = True)"
      ]
    },
    {
      "cell_type": "code",
      "execution_count": null,
      "metadata": {
        "id": "RTZ126KlyYg7"
      },
      "outputs": [],
      "source": [
        "class NeuralNetwork(nn.Module):\n",
        "\n",
        "  def __init__(self, input_size, hidden_size, num_classes):\n",
        "    super(NeuralNetwork, self).__init__()\n",
        "    self.l1 = nn.Linear(input_size, hidden_size)\n",
        "    self.l2 = nn.Linear(hidden_size, hidden_size)\n",
        "    self.l3 = nn.Linear(hidden_size,num_classes)\n",
        "    self.relu = nn.ReLU()\n",
        "      \n",
        "  def forward(self, x):\n",
        "    out = self.l1(x)\n",
        "    out = self.relu(out)\n",
        "    out = self.l2(out)\n",
        "    out = self.relu(out)\n",
        "    out = self.l3(out)\n",
        "        # no activation and no softmax at the end\n",
        "    return out  \n",
        "\n",
        "\n",
        "\n"
      ]
    },
    {
      "cell_type": "code",
      "execution_count": null,
      "metadata": {
        "colab": {
          "base_uri": "https://localhost:8080/"
        },
        "id": "5z83-b4I2fSA",
        "outputId": "774d5301-c910-4d3f-b7fe-a0a9fd025f14"
      },
      "outputs": [
        {
          "output_type": "stream",
          "name": "stdout",
          "text": [
            "54 7\n",
            "7 ['delivery', 'funny', 'goodbye', 'greeting', 'items', 'payments', 'thanks']\n"
          ]
        }
      ],
      "source": [
        "input_size = len(X_train[0])\n",
        "hidden_size = 8\n",
        "output_size = len(tags)\n",
        "print(input_size, output_size)\n",
        "print(output_size, tags)"
      ]
    },
    {
      "cell_type": "code",
      "execution_count": null,
      "metadata": {
        "id": "i8IBk_BD29BI"
      },
      "outputs": [],
      "source": [
        "device = torch.device('cuda')\n",
        "model = NeuralNetwork(input_size, hidden_size, output_size).to(device)\n"
      ]
    },
    {
      "cell_type": "code",
      "execution_count": null,
      "metadata": {
        "colab": {
          "base_uri": "https://localhost:8080/",
          "height": 35
        },
        "id": "8SIg9YoZ4ySm",
        "outputId": "121ac87a-8d52-404b-f106-461822944622"
      },
      "outputs": [
        {
          "output_type": "execute_result",
          "data": {
            "application/vnd.google.colaboratory.intrinsic+json": {
              "type": "string"
            },
            "text/plain": [
              "'/device:GPU:0'"
            ]
          },
          "metadata": {},
          "execution_count": 18
        }
      ],
      "source": [
        "import tensorflow as tf\n",
        "tf.test.gpu_device_name()"
      ]
    },
    {
      "cell_type": "code",
      "execution_count": null,
      "metadata": {
        "id": "JUImlfgb5o62"
      },
      "outputs": [],
      "source": [
        "learning_rate = 0.001\n",
        "epochs = 1000\n",
        "\n",
        "loss_fn = nn.CrossEntropyLoss()\n",
        "optimizer = torch.optim.Adam(model.parameters(), lr = learning_rate)\n",
        "\n"
      ]
    },
    {
      "cell_type": "code",
      "execution_count": null,
      "metadata": {
        "colab": {
          "base_uri": "https://localhost:8080/"
        },
        "id": "BVbQSu-k7d8h",
        "outputId": "79ca546e-f2a3-4450-ca34-df62657b0a9a"
      },
      "outputs": [
        {
          "output_type": "stream",
          "name": "stdout",
          "text": [
            "Epoch [100/1000], Loss: 0.7353\n",
            "Epoch [100/1000], Loss: 0.9123\n",
            "Epoch [100/1000], Loss: 0.8727\n",
            "Epoch [100/1000], Loss: 1.4116\n",
            "Epoch [200/1000], Loss: 0.1396\n",
            "Epoch [200/1000], Loss: 0.0982\n",
            "Epoch [200/1000], Loss: 0.1512\n",
            "Epoch [200/1000], Loss: 0.0641\n",
            "Epoch [300/1000], Loss: 0.0130\n",
            "Epoch [300/1000], Loss: 0.0261\n",
            "Epoch [300/1000], Loss: 0.0500\n",
            "Epoch [300/1000], Loss: 0.0159\n",
            "Epoch [400/1000], Loss: 0.0149\n",
            "Epoch [400/1000], Loss: 0.0085\n",
            "Epoch [400/1000], Loss: 0.0073\n",
            "Epoch [400/1000], Loss: 0.0218\n",
            "Epoch [500/1000], Loss: 0.0046\n",
            "Epoch [500/1000], Loss: 0.0054\n",
            "Epoch [500/1000], Loss: 0.0057\n",
            "Epoch [500/1000], Loss: 0.0114\n",
            "Epoch [600/1000], Loss: 0.0029\n",
            "Epoch [600/1000], Loss: 0.0038\n",
            "Epoch [600/1000], Loss: 0.0029\n",
            "Epoch [600/1000], Loss: 0.0047\n",
            "Epoch [700/1000], Loss: 0.0020\n",
            "Epoch [700/1000], Loss: 0.0019\n",
            "Epoch [700/1000], Loss: 0.0028\n",
            "Epoch [700/1000], Loss: 0.0006\n",
            "Epoch [800/1000], Loss: 0.0013\n",
            "Epoch [800/1000], Loss: 0.0015\n",
            "Epoch [800/1000], Loss: 0.0014\n",
            "Epoch [800/1000], Loss: 0.0015\n",
            "Epoch [900/1000], Loss: 0.0013\n",
            "Epoch [900/1000], Loss: 0.0008\n",
            "Epoch [900/1000], Loss: 0.0010\n",
            "Epoch [900/1000], Loss: 0.0004\n",
            "Epoch [1000/1000], Loss: 0.0008\n",
            "Epoch [1000/1000], Loss: 0.0005\n",
            "Epoch [1000/1000], Loss: 0.0007\n",
            "Epoch [1000/1000], Loss: 0.0012\n",
            "final loss: 0.0012\n"
          ]
        }
      ],
      "source": [
        "for epoch in range(epochs):\n",
        "  for(words,labels) in train_loader:\n",
        "    words = words.to(device)\n",
        "    labels = labels.to(device)\n",
        "\n",
        "    outputs = model(words)\n",
        "    loss = loss_fn(outputs, labels)\n",
        "\n",
        "    optimizer.zero_grad()\n",
        "    loss.backward()\n",
        "    optimizer.step()\n",
        "\n",
        "    if (epoch+1) % 100 == 0:\n",
        "        print (f'Epoch [{epoch+1}/{epochs}], Loss: {loss.item():.4f}')\n",
        "\n",
        "\n",
        "print(f'final loss: {loss.item():.4f}')"
      ]
    },
    {
      "cell_type": "code",
      "execution_count": null,
      "metadata": {
        "id": "Jr9JHW_49tcB"
      },
      "outputs": [],
      "source": [
        "data = {\n",
        "\"model_state\": model.state_dict(),\n",
        "\"input_size\": input_size,\n",
        "\"hidden_size\": hidden_size,\n",
        "\"output_size\": output_size,\n",
        "\"all_words\": all_words,\n",
        "\"tags\": tags\n",
        "}"
      ]
    },
    {
      "cell_type": "code",
      "execution_count": null,
      "metadata": {
        "colab": {
          "base_uri": "https://localhost:8080/"
        },
        "id": "mFEHB1rxTrtZ",
        "outputId": "79abd98c-ced4-4a89-84b5-af624013f826"
      },
      "outputs": [
        {
          "output_type": "stream",
          "name": "stdout",
          "text": [
            "training complete. file saved to data.pth\n"
          ]
        }
      ],
      "source": [
        "FILE = \"data.pth\"\n",
        "torch.save(data, FILE)\n",
        "\n",
        "print(f'training complete. file saved to {FILE}')\n"
      ]
    },
    {
      "cell_type": "markdown",
      "metadata": {
        "id": "leM0l6CGUL3l"
      },
      "source": [
        "Testing the model"
      ]
    },
    {
      "cell_type": "code",
      "execution_count": null,
      "metadata": {
        "id": "yo2jmTAkT6C8"
      },
      "outputs": [],
      "source": [
        "import random"
      ]
    },
    {
      "cell_type": "code",
      "execution_count": null,
      "metadata": {
        "id": "yMjHEWY7Uujg"
      },
      "outputs": [],
      "source": [
        "input_size = data[\"input_size\"]\n",
        "hidden_size = data[\"hidden_size\"]\n",
        "output_size = data[\"output_size\"]\n",
        "all_words = data['all_words']\n",
        "tags = data['tags']\n",
        "model_state = data[\"model_state\"]"
      ]
    },
    {
      "cell_type": "code",
      "execution_count": null,
      "metadata": {
        "colab": {
          "base_uri": "https://localhost:8080/"
        },
        "id": "wXHKFVyuUvZU",
        "outputId": "45866b39-ca44-4d6d-e57b-638c83e45c36"
      },
      "outputs": [
        {
          "output_type": "execute_result",
          "data": {
            "text/plain": [
              "NeuralNetwork(\n",
              "  (l1): Linear(in_features=54, out_features=8, bias=True)\n",
              "  (l2): Linear(in_features=8, out_features=8, bias=True)\n",
              "  (l3): Linear(in_features=8, out_features=7, bias=True)\n",
              "  (relu): ReLU()\n",
              ")"
            ]
          },
          "metadata": {},
          "execution_count": 25
        }
      ],
      "source": [
        "\n",
        "model.load_state_dict(model_state)\n",
        "model.eval()\n"
      ]
    },
    {
      "cell_type": "code",
      "execution_count": null,
      "metadata": {
        "colab": {
          "background_save": true,
          "base_uri": "https://localhost:8080/"
        },
        "id": "lUUSFixIUzEf",
        "outputId": "199b5ea6-bc01-4162-ccc2-ffb28534e6c5"
      },
      "outputs": [
        {
          "output_type": "stream",
          "name": "stdout",
          "text": [
            "Let's chat! (type 'quit' to exit)\n",
            "You: Hi\n",
            "Sam: Hello, thanks for visiting\n",
            "You: tell me a joke\n",
            "Sam: Why did the hipster burn his mouth? He drank the coffee before it was cool.\n",
            "You: tell me a fact\n",
            "Sam: What did the buffalo say when his son left for college? Bison.\n",
            "You: good morning\n",
            "Sam: Hi there, what can I do for you?\n",
            "You: how are you\n",
            "Sam: Hey :-)\n",
            "You: tharki\n",
            "Sam: I do not understand...\n",
            "You: tell me about the weather\n",
            "Sam: What did the buffalo say when his son left for college? Bison.\n",
            "You: how's the weather\n",
            "Sam: Hi there, what can I do for you?\n",
            "You: what do you sell\n",
            "Sam: We have coffee and tea\n"
          ]
        }
      ],
      "source": [
        "bot_name = \"Sam\"\n",
        "print(\"Let's chat! (type 'quit' to exit)\")\n",
        "while True:\n",
        "    # sentence = \"do you use credit cards?\"\n",
        "    sentence = input(\"You: \")\n",
        "    if sentence == \"quit\":\n",
        "        break\n",
        "\n",
        "    sentence = tokenize(sentence)\n",
        "    X = bag_of_words(sentence, all_words)\n",
        "    X = X.reshape(1, X.shape[0])\n",
        "    X = torch.from_numpy(X).to(device)\n",
        "\n",
        "    output = model(X)\n",
        "    _, predicted = torch.max(output, dim=1)\n",
        "\n",
        "    tag = tags[predicted.item()]\n",
        "\n",
        "    probs = torch.softmax(output, dim=1)\n",
        "    prob = probs[0][predicted.item()]\n",
        "    if prob.item() > 0.75:\n",
        "        for intent in intents['intents']:\n",
        "            if tag == intent[\"tag\"]:\n",
        "                print(f\"{bot_name}: {random.choice(intent['responses'])}\")\n",
        "    else:\n",
        "        print(f\"{bot_name}: I do not understand...\")"
      ]
    },
    {
      "cell_type": "code",
      "execution_count": null,
      "metadata": {
        "id": "_7bZ_9sQV3Ho"
      },
      "outputs": [],
      "source": [
        ""
      ]
    },
    {
      "cell_type": "code",
      "execution_count": null,
      "metadata": {
        "id": "vh6ZpXzb9C6b"
      },
      "outputs": [],
      "source": [
        ""
      ]
    }
  ],
  "metadata": {
    "accelerator": "GPU",
    "colab": {
      "name": "ChatBot.ipynb",
      "provenance": []
    },
    "kernelspec": {
      "display_name": "Python 3",
      "name": "python3"
    },
    "language_info": {
      "name": "python"
    }
  },
  "nbformat": 4,
  "nbformat_minor": 0
}