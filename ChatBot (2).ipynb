{
  "cells": [
    {
      "cell_type": "code",
      "execution_count": 1,
      "metadata": {
        "id": "RVcaLiVxL_F3"
      },
      "outputs": [],
      "source": [
        "import nltk\n",
        "import numpy as np\n",
        "import torch\n",
        "import torch.nn as nn\n",
        "from torch.utils.data import Dataset, DataLoader"
      ]
    },
    {
      "cell_type": "code",
      "execution_count": 2,
      "metadata": {
        "colab": {
          "base_uri": "https://localhost:8080/"
        },
        "id": "HDA8Pi9WPb_N",
        "outputId": "b344de21-9725-411f-ed96-22ad0e4d289b"
      },
      "outputs": [
        {
          "output_type": "stream",
          "name": "stdout",
          "text": [
            "[nltk_data] Downloading package punkt to /root/nltk_data...\n",
            "[nltk_data]   Unzipping tokenizers/punkt.zip.\n"
          ]
        },
        {
          "output_type": "execute_result",
          "data": {
            "text/plain": [
              "True"
            ]
          },
          "metadata": {},
          "execution_count": 2
        }
      ],
      "source": [
        "nltk.download('punkt')"
      ]
    },
    {
      "cell_type": "code",
      "execution_count": 3,
      "metadata": {
        "id": "K6qaY5SqYd74"
      },
      "outputs": [],
      "source": [
        "from nltk.stem.porter import *\n",
        "stemmer = PorterStemmer()"
      ]
    },
    {
      "cell_type": "code",
      "execution_count": 4,
      "metadata": {
        "id": "w-H4XjE8PwjV"
      },
      "outputs": [],
      "source": [
        "def tokenize(sentence):\n",
        "  return nltk.word_tokenize(sentence)"
      ]
    },
    {
      "cell_type": "code",
      "execution_count": 5,
      "metadata": {
        "id": "BX1-GoThQO6e"
      },
      "outputs": [],
      "source": [
        "def stem(word):\n",
        "  return stemmer.stem(word.lower())"
      ]
    },
    {
      "cell_type": "code",
      "execution_count": 6,
      "metadata": {
        "colab": {
          "base_uri": "https://localhost:8080/"
        },
        "id": "qYeIEkz_YyPI",
        "outputId": "176f6343-86a0-4408-9ff2-cd3fcf888937"
      },
      "outputs": [
        {
          "output_type": "stream",
          "name": "stdout",
          "text": [
            "['connect', 'connect', 'connect']\n"
          ]
        }
      ],
      "source": [
        "words = ['connection', 'connecting', 'connected']\n",
        "\n",
        "stemmed_words = [stem(w) for w in words]\n",
        "\n",
        "print(stemmed_words)"
      ]
    },
    {
      "cell_type": "code",
      "execution_count": 7,
      "metadata": {
        "id": "qkAe8wE_kd_N"
      },
      "outputs": [],
      "source": [
        "def bag_of_words(tokenized_sentence, all_words):\n",
        "\n",
        "  tokenized_sentence = [stem(w) for w in tokenized_sentence]\n",
        "  bag = np.zeros(len(all_words), dtype = np.float32)\n",
        "\n",
        "  for idx, w in enumerate(all_words):\n",
        "    if w in tokenized_sentence:\n",
        "      bag[idx] = 1.0\n",
        "  \n",
        "  return bag"
      ]
    },
    {
      "cell_type": "code",
      "execution_count": 8,
      "metadata": {
        "colab": {
          "base_uri": "https://localhost:8080/"
        },
        "id": "FOqW0TUtnj7d",
        "outputId": "7411da1a-d3b4-49ff-b9a7-6aff30a01d3b"
      },
      "outputs": [
        {
          "output_type": "stream",
          "name": "stdout",
          "text": [
            "Mounted at /content/drive\n"
          ]
        }
      ],
      "source": [
        "from google.colab import drive\n",
        "drive.mount('/content/drive')"
      ]
    },
    {
      "cell_type": "code",
      "execution_count": 9,
      "metadata": {
        "id": "M2R0G6SMZSnq"
      },
      "outputs": [],
      "source": [
        "import json"
      ]
    },
    {
      "cell_type": "code",
      "execution_count": 10,
      "metadata": {
        "id": "XzliZc2HmfaW"
      },
      "outputs": [],
      "source": [
        "with open('/content/drive/MyDrive/Colab Notebooks/Chat Bot Data/intents.json', 'r') as f:\n",
        "  intents = json.load(f)"
      ]
    },
    {
      "cell_type": "code",
      "execution_count": 11,
      "metadata": {
        "id": "UcTfTt-Vm82p"
      },
      "outputs": [],
      "source": [
        "all_words = []\n",
        "tags = []\n",
        "xy = []\n",
        "\n",
        "for intent in intents['intents']:\n",
        "  tag = intent['tag']\n",
        "  tags.append(tag)\n",
        "\n",
        "  for pattern in intent['patterns']:\n",
        "    w = tokenize(pattern)\n",
        "    all_words.extend(w)\n",
        "    xy.append((w,tag))\n",
        "\n",
        "ignore_words = ['?', '.', ',', '!']\n",
        "\n",
        "all_words = [stem(w) for w in all_words if w not in ignore_words]\n",
        "\n",
        "all_words = sorted(set(all_words))\n",
        "tags = sorted(set(tags))"
      ]
    },
    {
      "cell_type": "code",
      "execution_count": 12,
      "metadata": {
        "id": "MX7KDbnMq_q_"
      },
      "outputs": [],
      "source": [
        "X_train = []\n",
        "y_train = []\n",
        "\n",
        "for (pattern_sentence,tag) in xy:\n",
        "  bag = bag_of_words(pattern_sentence, all_words)\n",
        "  X_train.append(bag)\n",
        "  \n",
        "  labels = tags.index(tag)\n",
        "  y_train.append(labels)         #Since we have to use cross-entropy loss function we are not using one-hot encoded vector\n"
      ]
    },
    {
      "cell_type": "code",
      "execution_count": 13,
      "metadata": {
        "id": "W1z4unvMmNZM"
      },
      "outputs": [],
      "source": [
        "\n",
        " \n",
        "X_train = np.array(X_train)\n",
        "y_train = np.array(y_train)"
      ]
    },
    {
      "cell_type": "code",
      "execution_count": 14,
      "metadata": {
        "id": "QTbuN-_ypMkL"
      },
      "outputs": [],
      "source": [
        "class ChatDataset(Dataset):\n",
        "\n",
        "  def __init__(self):\n",
        "    self.n_samples = len(X_train)\n",
        "    self.x_data = X_train\n",
        "    self.y_data = y_train\n",
        "\n",
        "  def __getitem__(self, idx):\n",
        "    return self.x_data[idx], self.y_data[idx]\n",
        "\n",
        "  def __len__(self):\n",
        "    return self.n_samples\n",
        "\n",
        "batch_size = 8\n",
        "\n",
        "dataset = ChatDataset()\n",
        "train_loader = DataLoader(dataset = dataset, batch_size = batch_size, shuffle = True)"
      ]
    },
    {
      "cell_type": "code",
      "execution_count": 15,
      "metadata": {
        "id": "RTZ126KlyYg7"
      },
      "outputs": [],
      "source": [
        "class NeuralNetwork(nn.Module):\n",
        "\n",
        "  def __init__(self, input_size, hidden_size, num_classes):\n",
        "    super(NeuralNetwork, self).__init__()\n",
        "    self.l1 = nn.Linear(input_size, hidden_size)\n",
        "    self.l2 = nn.Linear(hidden_size, hidden_size)\n",
        "    self.l3 = nn.Linear(hidden_size,num_classes)\n",
        "    self.relu = nn.ReLU()\n",
        "      \n",
        "  def forward(self, x):\n",
        "    out = self.l1(x)\n",
        "    out = self.relu(out)\n",
        "    out = self.l2(out)\n",
        "    out = self.relu(out)\n",
        "    out = self.l3(out)\n",
        "        # no activation and no softmax at the end\n",
        "    return out  \n",
        "\n",
        "\n",
        "\n"
      ]
    },
    {
      "cell_type": "code",
      "execution_count": 16,
      "metadata": {
        "colab": {
          "base_uri": "https://localhost:8080/"
        },
        "id": "5z83-b4I2fSA",
        "outputId": "462e4a65-9c5b-4568-a3a5-2f69652ab60c"
      },
      "outputs": [
        {
          "output_type": "stream",
          "name": "stdout",
          "text": [
            "54 7\n",
            "7 ['delivery', 'funny', 'goodbye', 'greeting', 'items', 'payments', 'thanks']\n"
          ]
        }
      ],
      "source": [
        "input_size = len(X_train[0])\n",
        "hidden_size = 8\n",
        "output_size = len(tags)\n",
        "print(input_size, output_size)\n",
        "print(output_size, tags)"
      ]
    },
    {
      "cell_type": "code",
      "execution_count": 17,
      "metadata": {
        "id": "i8IBk_BD29BI"
      },
      "outputs": [],
      "source": [
        "device = torch.device('cuda')\n",
        "model = NeuralNetwork(input_size, hidden_size, output_size).to(device)\n"
      ]
    },
    {
      "cell_type": "code",
      "execution_count": 18,
      "metadata": {
        "colab": {
          "base_uri": "https://localhost:8080/",
          "height": 35
        },
        "id": "8SIg9YoZ4ySm",
        "outputId": "4bf73d98-27f0-4dda-a4ff-4b14701b940f"
      },
      "outputs": [
        {
          "output_type": "execute_result",
          "data": {
            "application/vnd.google.colaboratory.intrinsic+json": {
              "type": "string"
            },
            "text/plain": [
              "'/device:GPU:0'"
            ]
          },
          "metadata": {},
          "execution_count": 18
        }
      ],
      "source": [
        "import tensorflow as tf\n",
        "tf.test.gpu_device_name()"
      ]
    },
    {
      "cell_type": "code",
      "execution_count": 19,
      "metadata": {
        "id": "JUImlfgb5o62"
      },
      "outputs": [],
      "source": [
        "learning_rate = 0.001\n",
        "epochs = 1000\n",
        "\n",
        "loss_fn = nn.CrossEntropyLoss()\n",
        "optimizer = torch.optim.Adam(model.parameters(), lr = learning_rate)\n",
        "\n"
      ]
    },
    {
      "cell_type": "code",
      "execution_count": 20,
      "metadata": {
        "colab": {
          "base_uri": "https://localhost:8080/"
        },
        "id": "BVbQSu-k7d8h",
        "outputId": "4cec6aee-54eb-4ac0-bdb1-8aecdea003bb"
      },
      "outputs": [
        {
          "output_type": "stream",
          "name": "stdout",
          "text": [
            "Epoch [100/1000], Loss: 1.2135\n",
            "Epoch [100/1000], Loss: 0.8889\n",
            "Epoch [100/1000], Loss: 0.8092\n",
            "Epoch [100/1000], Loss: 1.1286\n",
            "Epoch [200/1000], Loss: 0.1526\n",
            "Epoch [200/1000], Loss: 0.4909\n",
            "Epoch [200/1000], Loss: 0.2768\n",
            "Epoch [200/1000], Loss: 0.5505\n",
            "Epoch [300/1000], Loss: 0.0572\n",
            "Epoch [300/1000], Loss: 0.0723\n",
            "Epoch [300/1000], Loss: 0.0529\n",
            "Epoch [300/1000], Loss: 0.0155\n",
            "Epoch [400/1000], Loss: 0.0143\n",
            "Epoch [400/1000], Loss: 0.0125\n",
            "Epoch [400/1000], Loss: 0.0235\n",
            "Epoch [400/1000], Loss: 0.0146\n",
            "Epoch [500/1000], Loss: 0.0079\n",
            "Epoch [500/1000], Loss: 0.0086\n",
            "Epoch [500/1000], Loss: 0.0065\n",
            "Epoch [500/1000], Loss: 0.0074\n",
            "Epoch [600/1000], Loss: 0.0035\n",
            "Epoch [600/1000], Loss: 0.0044\n",
            "Epoch [600/1000], Loss: 0.0049\n",
            "Epoch [600/1000], Loss: 0.0043\n",
            "Epoch [700/1000], Loss: 0.0013\n",
            "Epoch [700/1000], Loss: 0.0037\n",
            "Epoch [700/1000], Loss: 0.0031\n",
            "Epoch [700/1000], Loss: 0.0021\n",
            "Epoch [800/1000], Loss: 0.0012\n",
            "Epoch [800/1000], Loss: 0.0020\n",
            "Epoch [800/1000], Loss: 0.0017\n",
            "Epoch [800/1000], Loss: 0.0034\n",
            "Epoch [900/1000], Loss: 0.0017\n",
            "Epoch [900/1000], Loss: 0.0010\n",
            "Epoch [900/1000], Loss: 0.0010\n",
            "Epoch [900/1000], Loss: 0.0010\n",
            "Epoch [1000/1000], Loss: 0.0008\n",
            "Epoch [1000/1000], Loss: 0.0011\n",
            "Epoch [1000/1000], Loss: 0.0007\n",
            "Epoch [1000/1000], Loss: 0.0006\n",
            "final loss: 0.0006\n"
          ]
        }
      ],
      "source": [
        "for epoch in range(epochs):\n",
        "  for(words,labels) in train_loader:\n",
        "    words = words.to(device)\n",
        "    labels = labels.to(device)\n",
        "\n",
        "    outputs = model(words)\n",
        "    loss = loss_fn(outputs, labels)\n",
        "\n",
        "    optimizer.zero_grad()\n",
        "    loss.backward()\n",
        "    optimizer.step()\n",
        "\n",
        "    if (epoch+1) % 100 == 0:\n",
        "        print (f'Epoch [{epoch+1}/{epochs}], Loss: {loss.item():.4f}')\n",
        "\n",
        "\n",
        "print(f'final loss: {loss.item():.4f}')"
      ]
    },
    {
      "cell_type": "code",
      "execution_count": 21,
      "metadata": {
        "id": "Jr9JHW_49tcB"
      },
      "outputs": [],
      "source": [
        "data = {\n",
        "\"model_state\": model.state_dict(),\n",
        "\"input_size\": input_size,\n",
        "\"hidden_size\": hidden_size,\n",
        "\"output_size\": output_size,\n",
        "\"all_words\": all_words,\n",
        "\"tags\": tags\n",
        "}"
      ]
    },
    {
      "cell_type": "code",
      "execution_count": 22,
      "metadata": {
        "colab": {
          "base_uri": "https://localhost:8080/"
        },
        "id": "mFEHB1rxTrtZ",
        "outputId": "0c0751d5-a93f-46cb-c7a7-3d3cbc6bf335"
      },
      "outputs": [
        {
          "output_type": "stream",
          "name": "stdout",
          "text": [
            "training complete. file saved to data.pth\n"
          ]
        }
      ],
      "source": [
        "FILE = \"data.pth\"\n",
        "torch.save(data, FILE)\n",
        "\n",
        "print(f'training complete. file saved to {FILE}')\n"
      ]
    },
    {
      "cell_type": "markdown",
      "metadata": {
        "id": "leM0l6CGUL3l"
      },
      "source": [
        "Testing the model"
      ]
    },
    {
      "cell_type": "code",
      "execution_count": 23,
      "metadata": {
        "id": "yo2jmTAkT6C8"
      },
      "outputs": [],
      "source": [
        "import random"
      ]
    },
    {
      "cell_type": "code",
      "execution_count": 24,
      "metadata": {
        "id": "yMjHEWY7Uujg"
      },
      "outputs": [],
      "source": [
        "input_size = data[\"input_size\"]\n",
        "hidden_size = data[\"hidden_size\"]\n",
        "output_size = data[\"output_size\"]\n",
        "all_words = data['all_words']\n",
        "tags = data['tags']\n",
        "model_state = data[\"model_state\"]"
      ]
    },
    {
      "cell_type": "code",
      "execution_count": 25,
      "metadata": {
        "colab": {
          "base_uri": "https://localhost:8080/"
        },
        "id": "wXHKFVyuUvZU",
        "outputId": "13aef459-3f16-429f-b57a-cce152f8a4e5"
      },
      "outputs": [
        {
          "output_type": "execute_result",
          "data": {
            "text/plain": [
              "NeuralNetwork(\n",
              "  (l1): Linear(in_features=54, out_features=8, bias=True)\n",
              "  (l2): Linear(in_features=8, out_features=8, bias=True)\n",
              "  (l3): Linear(in_features=8, out_features=7, bias=True)\n",
              "  (relu): ReLU()\n",
              ")"
            ]
          },
          "metadata": {},
          "execution_count": 25
        }
      ],
      "source": [
        "\n",
        "model.load_state_dict(model_state)\n",
        "model.eval()\n"
      ]
    },
    {
      "cell_type": "code",
      "execution_count": null,
      "metadata": {
        "colab": {
          "base_uri": "https://localhost:8080/"
        },
        "id": "lUUSFixIUzEf",
        "outputId": "d98e7227-f1ee-4720-825e-9c15a6d204df"
      },
      "outputs": [
        {
          "output_type": "stream",
          "name": "stdout",
          "text": [
            "Let's chat! (type 'quit' to exit)\n",
            "You: Hi\n",
            "Sam: Hey :-)\n",
            "You: What do you sell\n",
            "Sam: We sell coffee and tea\n",
            "You: Are you cash only?\n",
            "Sam: We accept VISA, Mastercard and Paypal\n",
            "You: How long does delivery take?\n",
            "Sam: Shipping takes 2-4 days\n",
            "You: Thank you\n",
            "Sam: Any time!\n"
          ]
        }
      ],
      "source": [
        "bot_name = \"Sam\"\n",
        "print(\"Let's chat! (type 'quit' to exit)\")\n",
        "while True:\n",
        "    # sentence = \"do you use credit cards?\"\n",
        "    sentence = input(\"You: \")\n",
        "    if sentence == \"quit\":\n",
        "        break\n",
        "\n",
        "    sentence = tokenize(sentence)\n",
        "    X = bag_of_words(sentence, all_words)\n",
        "    X = X.reshape(1, X.shape[0])\n",
        "    X = torch.from_numpy(X).to(device)\n",
        "\n",
        "    output = model(X)\n",
        "    _, predicted = torch.max(output, dim=1)\n",
        "\n",
        "    tag = tags[predicted.item()]\n",
        "\n",
        "    probs = torch.softmax(output, dim=1)\n",
        "    prob = probs[0][predicted.item()]\n",
        "    if prob.item() > 0.75:\n",
        "        for intent in intents['intents']:\n",
        "            if tag == intent[\"tag\"]:\n",
        "                print(f\"{bot_name}: {random.choice(intent['responses'])}\")\n",
        "    else:\n",
        "        print(f\"{bot_name}: I do not understand...\")"
      ]
    },
    {
      "cell_type": "code",
      "execution_count": null,
      "metadata": {
        "id": "vh6ZpXzb9C6b"
      },
      "outputs": [],
      "source": [
        ""
      ]
    }
  ],
  "metadata": {
    "accelerator": "GPU",
    "colab": {
      "name": "ChatBot.ipynb",
      "provenance": [],
      "collapsed_sections": []
    },
    "kernelspec": {
      "display_name": "Python 3",
      "name": "python3"
    },
    "language_info": {
      "name": "python"
    }
  },
  "nbformat": 4,
  "nbformat_minor": 0
}